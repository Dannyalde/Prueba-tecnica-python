{
 "cells": [
  {
   "cell_type": "markdown",
   "metadata": {},
   "source": [
    "# Prueba tecnica en Python\n",
    "##### Danny Aldemar Jiménez Martín\n",
    "\n",
    "\n"
   ]
  },
  {
   "cell_type": "markdown",
   "metadata": {},
   "source": [
    "### Enunciado: \n",
    "\n",
    "#### Existen algunos números que tienen propiedades divertidas. Por ejemplo:  \n"
   ]
  },
  {
   "cell_type": "markdown",
   "metadata": {},
   "source": [
    " "
   ]
  },
  {
   "cell_type": "markdown",
   "metadata": {},
   "source": [
    "\"$89 \\rightarrow 8^{1} + 9^{2} =89*1$\" \n"
   ]
  },
  {
   "cell_type": "markdown",
   "metadata": {},
   "source": [
    "\"$695 \\rightarrow 6^{2} + 9^{3} + 5^{4} =1390 = 695*2$\" "
   ]
  },
  {
   "cell_type": "markdown",
   "metadata": {},
   "source": [
    "\"$46288 \\rightarrow 4^{3} + 6^{4} + 2^{5} + 8^{6} + 8^{7}  =  2360688 = 46288*51$\""
   ]
  },
  {
   "cell_type": "markdown",
   "metadata": {},
   "source": [
    " "
   ]
  },
  {
   "cell_type": "markdown",
   "metadata": {},
   "source": [
    "De acuerdo con la secuencia anterior, dado un numero entero positivo $n$ escrito de la forma $abcd… $, y otro numero entero positivo $p$, se requiere encontrar un entero positivo $k$, si existe, de tal manera que la suma de los dígitos de $n$ tomados a las potencias sucesivas de $p$ es igual a $k*n$"
   ]
  },
  {
   "cell_type": "markdown",
   "metadata": {},
   "source": [
    " "
   ]
  },
  {
   "cell_type": "markdown",
   "metadata": {},
   "source": [
    "En otras palabras, $k$ debe ser un nuero tal que: "
   ]
  },
  {
   "cell_type": "markdown",
   "metadata": {},
   "source": [
    "$a^{p} + b^{(p+1)} + c^{(p+2)} + d^{(p+3)}  + ... = n*k$"
   ]
  },
  {
   "cell_type": "markdown",
   "metadata": {},
   "source": [
    " "
   ]
  },
  {
   "cell_type": "markdown",
   "metadata": {},
   "source": [
    "Si es el caso, se vevolvera $k$, si no, se devolvera $-1$"
   ]
  },
  {
   "cell_type": "markdown",
   "metadata": {},
   "source": [
    "### Nota:\n",
    "$n$ y $p$ siempre se darán como enteros estrictamente positivos."
   ]
  },
  {
   "cell_type": "markdown",
   "metadata": {},
   "source": [
    " ```python\n",
    "dig_pow(89, 1) should return 1 since 8¹ + 9² = 89 = 89 * 1\n",
    "dig_pow(92, 1) should return -1 since there is no k such as 9¹ + 2² equals 92 * k\n",
    "dig_pow(695, 2) should return 2 since 6² + 9³ + 5⁴= 1390 = 695 * 2\n",
    "dig_pow(46288, 3) should return 51 since 4³ + 6⁴+ 2⁵ + 8⁶ + 8⁷ = 2360688 = 46288 * 51\n",
    "```"
   ]
  },
  {
   "cell_type": "markdown",
   "metadata": {},
   "source": [
    "### Solución "
   ]
  },
  {
   "cell_type": "markdown",
   "metadata": {},
   "source": [
    "1)  De acuerdo con el enunciado, $n$ y $p$ se darán siempre como enteros positivos, entonces no hay necesidad de verificarlos"
   ]
  },
  {
   "cell_type": "markdown",
   "metadata": {},
   "source": [
    "2) Se deben separar los dígitos del entero $n$ para posteriormente, ser elevados a las potencias sucesivas de $p$ y sumados en la misma variable \n"
   ]
  },
  {
   "cell_type": "markdown",
   "metadata": {},
   "source": [
    "3) Por último, se evalúa si existe el entero positivo $k$. En caso de que exista, será el resultado de la división entre la suma de los dígitos elevados a las potencias sucesivas, y el numero $n$"
   ]
  },
  {
   "cell_type": "code",
   "execution_count": 173,
   "metadata": {},
   "outputs": [],
   "source": [
    "def funny_p(n, p):\n",
    "   \n",
    "    Numeros = map(int,str(n))     # Con la función map, se toma el numero n, se convierte a str para extraer los dígitos en int\n",
    "    \n",
    "    Salida = 0                    # Resultado  \n",
    "    for i in Numeros:             # Con este for, se recorren los dígitos que están en la variable Numeros\n",
    "        Salida = Salida + i ** p  # Calculó la suma de los dígitos por separado, elevados a la potencia p\n",
    "        p = p + 1                 # aumento la potencia \n",
    "\n",
    "    if Salida % n == 0:           # Evaluo que el modulo entre la suma de las potencias de los digios y el numero n no genere residuo\n",
    "        return Salida // n        # K es la división entre la suma de las potencias y n\n",
    "    else:\n",
    "        return -1                 # En caso de que k no exista"
   ]
  },
  {
   "cell_type": "markdown",
   "metadata": {},
   "source": [
    " "
   ]
  },
  {
   "cell_type": "markdown",
   "metadata": {},
   "source": [
    "### Resultados "
   ]
  },
  {
   "cell_type": "code",
   "execution_count": 168,
   "metadata": {},
   "outputs": [
    {
     "data": {
      "text/plain": [
       "1"
      ]
     },
     "execution_count": 168,
     "metadata": {},
     "output_type": "execute_result"
    }
   ],
   "source": [
    "funny_p(89, 1)"
   ]
  },
  {
   "cell_type": "code",
   "execution_count": 169,
   "metadata": {},
   "outputs": [
    {
     "data": {
      "text/plain": [
       "-1"
      ]
     },
     "execution_count": 169,
     "metadata": {},
     "output_type": "execute_result"
    }
   ],
   "source": [
    "funny_p(92, 1)"
   ]
  },
  {
   "cell_type": "code",
   "execution_count": 170,
   "metadata": {},
   "outputs": [
    {
     "data": {
      "text/plain": [
       "2"
      ]
     },
     "execution_count": 170,
     "metadata": {},
     "output_type": "execute_result"
    }
   ],
   "source": [
    "funny_p(695, 2)"
   ]
  },
  {
   "cell_type": "code",
   "execution_count": 172,
   "metadata": {},
   "outputs": [
    {
     "data": {
      "text/plain": [
       "51"
      ]
     },
     "execution_count": 172,
     "metadata": {},
     "output_type": "execute_result"
    }
   ],
   "source": [
    "funny_p(46288,3)"
   ]
  }
 ],
 "metadata": {
  "kernelspec": {
   "display_name": "Python 3",
   "language": "python",
   "name": "python3"
  },
  "language_info": {
   "codemirror_mode": {
    "name": "ipython",
    "version": 3
   },
   "file_extension": ".py",
   "mimetype": "text/x-python",
   "name": "python",
   "nbconvert_exporter": "python",
   "pygments_lexer": "ipython3",
   "version": "3.7.6"
  }
 },
 "nbformat": 4,
 "nbformat_minor": 4
}
